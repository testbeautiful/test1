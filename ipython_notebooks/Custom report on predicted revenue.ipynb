{
  "metadata": {
    "kernelspec": {
      "display_name": "Python 2",
      "language": "python",
      "name": "python2"
    },
    "language_info": {
      "codemirror_mode": {
        "name": "ipython",
        "version": 2
      },
      "file_extension": ".py",
      "mimetype": "text/x-python",
      "name": "python",
      "nbconvert_exporter": "python",
      "pygments_lexer": "ipython2",
      "version": "2.7.5"
    }
  },
  "nbformat": 4,
  "nbformat_minor": 0,
  "cells": [
    {
      "execution_count": 0,
      "cell_type": "code",
      "metadata": {
        "collapsed": false
      },
      "source": [
        "import dataiku\n",
        "from dataiku import pandasutils as pdu\n",
        "import pandas as pd\n",
        "import sys\n",
        "from IPython.core.display import HTML\n",
        "from math import floor"
      ],
      "outputs": []
    },
    {
      "execution_count": 0,
      "cell_type": "code",
      "metadata": {
        "collapsed": false
      },
      "source": [
        "## Example: load a DDS dataset as a Pandas data frame\n",
        "mydataset \u003d dataiku.Dataset(\"revenue_prediction\")\n",
        "mydataset_df \u003d mydataset.get_dataframe()"
      ],
      "outputs": []
    },
    {
      "execution_count": 0,
      "cell_type": "code",
      "metadata": {
        "collapsed": false
      },
      "source": [
        "us_customers \u003d mydataset_df[mydataset_df.ip_country \u003d\u003d \u0027United States\u0027]"
      ],
      "outputs": []
    },
    {
      "execution_count": 0,
      "cell_type": "code",
      "metadata": {
        "collapsed": false
      },
      "source": [
        "HTML(\"\u003cul\u003e\"\n",
        "    + \"\u003cli\u003e Average revenue expected per american customer : $ %d\u003c/li\u003e\" % floor(us_customers.prediction.mean())\n",
        "    + \"\u003cli\u003eTotal revenue expected in the U.S. : $ %d\u003c/li\u003e\" % floor(us_customers.prediction.sum())\n",
        "    + \"\u003c/ul\u003e\"\n",
        "    )"
      ],
      "outputs": []
    },
    {
      "execution_count": 0,
      "cell_type": "code",
      "metadata": {
        "collapsed": true
      },
      "source": [],
      "outputs": []
    }
  ]
}